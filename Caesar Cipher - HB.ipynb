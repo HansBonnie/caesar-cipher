{
 "cells": [
  {
   "cell_type": "markdown",
   "metadata": {},
   "source": [
    "# __CAESAR CIPHER__\n",
    "## **REQUIRED DATA**\n",
    "\n",
    "* _Alfabet = 'ABCDEFGHIJKLMNOPQRSTUVWXYZ'_\n",
    "\n",
    "* _Encrypted Text:_\n",
    "    * _kalimat = 'IT  TSJ  YMNSL  JAJWD  IFD  YMFY  XHFWJX  DTZ'_\n",
    "\n",
    "* __frekuensi_bahasa_inggris = {\n",
    "    'A': 0.08167, 'B': 0.01492, 'C': 0.02782, 'D': 0.04253, 'E': 0.12702,\n",
    "    'F': 0.02228, 'G': 0.02015, 'H': 0.06094, 'I': 0.06966, 'J': 0.00153,\n",
    "    'K': 0.00772, 'L': 0.04025, 'M': 0.02406, 'N': 0.06749, 'O': 0.07507,\n",
    "    'P': 0.01929, 'Q': 0.00095, 'R': 0.05987, 'S': 0.06327, 'T': 0.09056,\n",
    "    'U': 0.02758, 'V': 0.00978, 'W': 0.02360, 'X': 0.00150, 'Y': 0.01974,\n",
    "    'Z': 0.00074\n",
    "}__\n"
   ]
  },
  {
   "cell_type": "code",
   "execution_count": 8,
   "metadata": {},
   "outputs": [
    {
     "name": "stdout",
     "output_type": "stream",
     "text": [
      "IN  THE  MIDDLE  OF  EVERY  DIFFICULTY  LIES  OPPORTUNITY. \n"
     ]
    }
   ],
   "source": [
    "Alfabet = 'ABCDEFGHIJKLMNOPQRSTUVWXYZ'\n",
    "\n",
    "kalimat = \"OT  ZNK  SOJJRK  UL  KBKXE  JOLLOIARZE  ROKY  UVVUXZATOZE. \"\n",
    "\n",
    "def hitung_frekuensi (text):\n",
    "    frekuensi = {}\n",
    "    total = 0\n",
    "\n",
    "    for char in text:\n",
    "        if char.isalpha():\n",
    "            if char in frekuensi :\n",
    "                frekuensi[char]+=1\n",
    "            else :\n",
    "                frekuensi[char]=1\n",
    "            total += 1\n",
    "    for char in frekuensi:\n",
    "        frekuensi[char]/=total\n",
    "    return frekuensi\n",
    "\n",
    "frekuensi_bahasa_inggris = {\n",
    "    'A': 0.08167, 'B': 0.01492, 'C': 0.02782, 'D': 0.04253, 'E': 0.12702,\n",
    "    'F': 0.02228, 'G': 0.02015, 'H': 0.06094, 'I': 0.06966, 'J': 0.00153,\n",
    "    'K': 0.00772, 'L': 0.04025, 'M': 0.02406, 'N': 0.06749, 'O': 0.07507,\n",
    "    'P': 0.01929, 'Q': 0.00095, 'R': 0.05987, 'S': 0.06327, 'T': 0.09056,\n",
    "    'U': 0.02758, 'V': 0.00978, 'W': 0.02360, 'X': 0.00150, 'Y': 0.01974,\n",
    "    'Z': 0.00074\n",
    "}\n",
    "\n",
    "def cocokan_bahasa (frekuensi_kalimat, frekuensi_bahasa):\n",
    "    total_perbedaan = 0\n",
    "    for huruf in Alfabet:\n",
    "        total_perbedaan += abs (frekuensi_kalimat.get(huruf, 0)-frekuensi_bahasa.get(huruf, 0))\n",
    "    return total_perbedaan\n",
    "\n",
    "min_perbedaan = float('inf')\n",
    "bahasa_terbaik = ''\n",
    "\n",
    "for geser in range (26):\n",
    "    kalimat_terdekripsi = ''\n",
    "    for char in kalimat.upper() :\n",
    "        if char.isalpha():\n",
    "            index_lama = Alfabet.index(char)\n",
    "            index_baru = (index_lama + geser)%26\n",
    "            kalimat_terdekripsi += Alfabet[index_baru]\n",
    "        else :\n",
    "            kalimat_terdekripsi+= char\n",
    "    \n",
    "    frekuensi_kalimat_terdekripsi = hitung_frekuensi(kalimat_terdekripsi.upper())\n",
    "    perbedaan = cocokan_bahasa(frekuensi_kalimat_terdekripsi, frekuensi_bahasa_inggris)\n",
    "\n",
    "    if perbedaan<min_perbedaan:\n",
    "        min_perbedaan = perbedaan\n",
    "        bahasa_terbaik = kalimat_terdekripsi\n",
    "\n",
    "print (bahasa_terbaik)\n",
    "\n",
    "\n",
    "\n",
    "\n"
   ]
  }
 ],
 "metadata": {
  "kernelspec": {
   "display_name": "base",
   "language": "python",
   "name": "python3"
  },
  "language_info": {
   "codemirror_mode": {
    "name": "ipython",
    "version": 3
   },
   "file_extension": ".py",
   "mimetype": "text/x-python",
   "name": "python",
   "nbconvert_exporter": "python",
   "pygments_lexer": "ipython3",
   "version": "3.11.5"
  }
 },
 "nbformat": 4,
 "nbformat_minor": 2
}
